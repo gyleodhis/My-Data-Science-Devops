{
 "cells": [
  {
   "cell_type": "markdown",
   "metadata": {},
   "source": [
    "## Data Structures\n",
    "### 1. Arrays\n",
    "Holds fix number of items and these items should be of the same type. The items in the array can be accessed via index. Basic operations include:\n",
    "* __Traverse__ − Print all the array elements one by one.\n",
    "* __Insertion__ − Adds an element at the given index.\n",
    "* __Deletion__ − Deletes an element at the given index.\n",
    "* __Search__ − Searches an element, using the given index or by the value.\n",
    "* __Update__ − Updates an element at the given index"
   ]
  },
  {
   "cell_type": "code",
   "execution_count": 3,
   "metadata": {},
   "outputs": [
    {
     "name": "stdout",
     "output_type": "stream",
     "text": [
      "10 20 30 40 50 "
     ]
    }
   ],
   "source": [
    "from numpy import *\n",
    "import collections\n",
    "from array import *\n",
    "a=array('i', [10,20,30,40,50])\n",
    "# looping has to be done to print out the elements of the array.\n",
    "for x in a:\n",
    "    print (x, end=' ')"
   ]
  },
  {
   "cell_type": "code",
   "execution_count": 2,
   "metadata": {},
   "outputs": [
    {
     "name": "stdout",
     "output_type": "stream",
     "text": [
      "10 20 35 30 40 50 "
     ]
    }
   ],
   "source": [
    "# Accessing specific element\n",
    "# print(a[1])\n",
    "# Inserting an element. This can be done at any give index.\n",
    "a.insert(2,35)\n",
    "for x in a:\n",
    "    print (x,end= ' ')"
   ]
  },
  {
   "cell_type": "code",
   "execution_count": 3,
   "metadata": {},
   "outputs": [
    {
     "name": "stdout",
     "output_type": "stream",
     "text": [
      "10 20 30 40 50 "
     ]
    }
   ],
   "source": [
    "# Deletion operation\n",
    "a.remove(35)\n",
    "for x in a:\n",
    "    print (x,end=' ')"
   ]
  },
  {
   "cell_type": "code",
   "execution_count": 4,
   "metadata": {},
   "outputs": [
    {
     "name": "stdout",
     "output_type": "stream",
     "text": [
      "10 20 110 40 50 "
     ]
    }
   ],
   "source": [
    "# Update operation\n",
    "a[2] = 110\n",
    "for x in a:\n",
    "    print(x, end=' ')"
   ]
  },
  {
   "cell_type": "markdown",
   "metadata": {},
   "source": [
    "## 2. Lists\n",
    "These are comma separated values between square brackets. Items need not be of the same type."
   ]
  },
  {
   "cell_type": "code",
   "execution_count": 52,
   "metadata": {},
   "outputs": [],
   "source": [
    "list1 = ['physics', 'chemistry', 1997, 2000]\n",
    "list2 = [1, 2, 3, 4, 5 ]\n",
    "list3 = [\"a\", \"b\", \"c\", \"d\"]"
   ]
  },
  {
   "cell_type": "code",
   "execution_count": 53,
   "metadata": {},
   "outputs": [
    {
     "data": {
      "text/plain": [
       "[3, 4]"
      ]
     },
     "execution_count": 53,
     "metadata": {},
     "output_type": "execute_result"
    }
   ],
   "source": [
    "list2[2:4]"
   ]
  },
  {
   "cell_type": "code",
   "execution_count": 54,
   "metadata": {},
   "outputs": [
    {
     "data": {
      "text/plain": [
       "['chemistry', 1997, 2000]"
      ]
     },
     "execution_count": 54,
     "metadata": {},
     "output_type": "execute_result"
    }
   ],
   "source": [
    "#To remove a list element, you can use either the del statement, if you know exactly, which\n",
    "#element(s) you are deleting or the remove() method, if you do not know.\n",
    "del list1[0]\n",
    "list1"
   ]
  },
  {
   "cell_type": "code",
   "execution_count": 61,
   "metadata": {},
   "outputs": [
    {
     "name": "stdout",
     "output_type": "stream",
     "text": [
      "a\n",
      "b\n",
      "c\n",
      "d\n"
     ]
    }
   ],
   "source": [
    "# print(list3*4, end=' ') # Repetition\n",
    "# len(list1) #Length\n",
    "# list1+list2 #concatenation\n",
    "# 3 in list2 #membership\n",
    "for x in list3: print(x) # iteration"
   ]
  },
  {
   "cell_type": "markdown",
   "metadata": {},
   "source": [
    "### 3. Tuples\n",
    "The differences between tuples and lists are, the tuples cannot be changed once created (they are immutable) unlike lists and tuples use parentheses,whereas lists use square brackets."
   ]
  },
  {
   "cell_type": "code",
   "execution_count": 9,
   "metadata": {},
   "outputs": [
    {
     "name": "stdout",
     "output_type": "stream",
     "text": [
      "('chemistry', 1997)\n"
     ]
    }
   ],
   "source": [
    "tup1 = ('physics', 'chemistry', 1997, 2000);\n",
    "tup2 = (1, 2, 3, 4, 5 );\n",
    "tup3 = \"a\", \"b\", \"c\", \"d\";\n",
    "mytup = () # this is how you define an emty tuple\n",
    "mytupe1 = (12,) # A tuple with only one element must have a comma.\n",
    "print(tup1[1:3]) # Access is via index"
   ]
  },
  {
   "cell_type": "code",
   "execution_count": 10,
   "metadata": {},
   "outputs": [
    {
     "name": "stdout",
     "output_type": "stream",
     "text": [
      "('physics', 'Biology', 1997, 2000)\n"
     ]
    }
   ],
   "source": [
    "# to update a tuple you have to convert it to a list.\n",
    "tup_to_list = list(tup1)\n",
    "tup_to_list[1] = 'Biology'\n",
    "new_tupe = tuple(tup_to_list)\n",
    "print(new_tupe)"
   ]
  },
  {
   "cell_type": "markdown",
   "metadata": {},
   "source": [
    "## 4. Dictionary\n",
    "Contains Keys and values separated by a colonn. With the whole thing enclosed in curly braces. We use keys to acces the elements."
   ]
  },
  {
   "cell_type": "code",
   "execution_count": 64,
   "metadata": {},
   "outputs": [
    {
     "data": {
      "text/plain": [
       "'Eight'"
      ]
     },
     "execution_count": 64,
     "metadata": {},
     "output_type": "execute_result"
    }
   ],
   "source": [
    "dict = {'Name': 'Zara', 'Age': 7, 'Class': 'Eight'}\n",
    "dict['Class']"
   ]
  },
  {
   "cell_type": "code",
   "execution_count": 65,
   "metadata": {},
   "outputs": [],
   "source": [
    "dict['Age'] = 8; # update existing entry\n",
    "dict['School'] = \"DPS School\"; # Add new entry\n",
    "del dict['Name']; # remove entry with key 'Name'\n",
    "dict.clear(); # remove all entries in dict\n",
    "del dict ; # delete entire dictionary"
   ]
  },
  {
   "cell_type": "markdown",
   "metadata": {},
   "source": [
    "### Dictionary Properties\n",
    "There are two important points to remember about dictionary keys\n",
    "* More than one entry per key not allowed. Which means, no duplicate key is allowed.When duplicate keys are encountered during assignment, the last assignment wins.\n",
    "* Keys must be immutable. Which means you can use strings, numbers or tuples as dictionary keys, but something like ['key'] is not allowed."
   ]
  },
  {
   "cell_type": "markdown",
   "metadata": {},
   "source": [
    "## 2D Arrays\n",
    "These are basically arrays within an array or an array of arrays. Referance is this done by two indices instead of one."
   ]
  },
  {
   "cell_type": "code",
   "execution_count": 69,
   "metadata": {},
   "outputs": [
    {
     "name": "stdout",
     "output_type": "stream",
     "text": [
      "[15, 6, 10]\n",
      "8\n",
      "[[11, 12, 5, 2], [15, 6, 10], [0, 5, 11, 13, 6], [10, 8, 12, 5], [12, 15, 8, 6]]\n"
     ]
    }
   ],
   "source": [
    "Day1 = [11, 12,5, 2]\n",
    "Day2 = [15, 6, 10]\n",
    "Day3 = [10, 8, 12, 5]\n",
    "Day4 = [12, 15, 8, 6]\n",
    "# This can be represented as\n",
    "T = [[11, 12, 5, 2], [15, 6,10], [10, 8, 12, 5], [12,15,8,6]]\n",
    "print(T[1])\n",
    "print(T[3][2])\n",
    "T.insert(2, [0,5,11,13,6]) # inserting new values\n",
    "print(T)"
   ]
  },
  {
   "cell_type": "markdown",
   "metadata": {},
   "source": [
    "To print out the entire two dimensional array, we can use python for loop as shown below.\n",
    "We use end of line to print out the values in different rows."
   ]
  },
  {
   "cell_type": "code",
   "execution_count": 71,
   "metadata": {},
   "outputs": [
    {
     "name": "stdout",
     "output_type": "stream",
     "text": [
      "11 12 5 2 \n",
      "15 6 10 \n",
      "0 5 11 13 6 \n",
      "10 8 12 5 \n",
      "12 15 8 6 \n"
     ]
    }
   ],
   "source": [
    "for r in T:\n",
    "    for k in r:\n",
    "        print(k,end=' ')\n",
    "    print()"
   ]
  },
  {
   "cell_type": "code",
   "execution_count": 82,
   "metadata": {},
   "outputs": [
    {
     "name": "stdout",
     "output_type": "stream",
     "text": [
      "11 12 5 7 \n",
      "15 6 10 \n",
      "11 9 \n",
      "10 8 12 5 \n",
      "12 15 8 6 \n"
     ]
    }
   ],
   "source": [
    "# Updateing values\n",
    "T[2] = [11,9]\n",
    "T[0][3] = 7\n",
    "for r in T:\n",
    "    for k in r:\n",
    "        print(k,end=' ')\n",
    "    print()"
   ]
  },
  {
   "cell_type": "code",
   "execution_count": 83,
   "metadata": {},
   "outputs": [
    {
     "name": "stdout",
     "output_type": "stream",
     "text": [
      "11 12 5 7 \n",
      "15 6 10 \n",
      "11 9 \n",
      "12 15 8 6 \n"
     ]
    }
   ],
   "source": [
    "# Deleting Values:\n",
    "del T[3]\n",
    "for r in T:\n",
    "    for c in r:\n",
    "        print(c,end = \" \")\n",
    "    print()"
   ]
  },
  {
   "cell_type": "markdown",
   "metadata": {},
   "source": [
    "## 5. Matrix\n",
    "Matrix is a special case of two dimensional array, where, each data element is of strictly same size. So, every matrix is also a two dimensional array but not, vice versa.\n",
    "Consider the case of recording temperature for one week measured in the morning, midday, evening and mid-night. It can be presented as a 7X5 matrix, using a list and the reshape method available in numpy."
   ]
  },
  {
   "cell_type": "code",
   "execution_count": 84,
   "metadata": {},
   "outputs": [
    {
     "name": "stdout",
     "output_type": "stream",
     "text": [
      "[['Mon' '18' '20' '22' '17']\n",
      " ['Tue' '11' '18' '21' '18']\n",
      " ['Wed' '15' '21' '20' '19']\n",
      " ['Thu' '11' '20' '22' '21']\n",
      " ['Fri' '18' '17' '23' '22']\n",
      " ['Sat' '12' '22' '20' '18']\n",
      " ['Sun' '13' '15' '19' '16']]\n"
     ]
    }
   ],
   "source": [
    "a = list([['Mon',18,20,22,17],['Tue',11,18,21,18],\n",
    "           ['Wed',15,21,20,19],['Thu',11,20,22,21],\n",
    "           ['Fri',18,17,23,22],['Sat',12,22,20,18],\n",
    "           ['Sun',13,15,19,16]])\n",
    "m = reshape(a,(7,5))\n",
    "print(m)"
   ]
  },
  {
   "cell_type": "code",
   "execution_count": 85,
   "metadata": {},
   "outputs": [
    {
     "name": "stdout",
     "output_type": "stream",
     "text": [
      "['Thu' '11' '20' '22' '21']\n",
      "18\n"
     ]
    }
   ],
   "source": [
    "print(m[3]) # Prints data for Thursday\n",
    "print(m[4][1]) # Friday Morning."
   ]
  },
  {
   "cell_type": "code",
   "execution_count": 86,
   "metadata": {},
   "outputs": [
    {
     "name": "stdout",
     "output_type": "stream",
     "text": [
      "[['Mon' '18' '20' '22' '17']\n",
      " ['Tue' '11' '18' '21' '18']\n",
      " ['Wed' '15' '21' '20' '19']\n",
      " ['Thu' '11' '20' '22' '21']\n",
      " ['Fri' '18' '17' '23' '22']\n",
      " ['Sat' '12' '22' '20' '18']\n",
      " ['Sun' '13' '15' '19' '16']\n",
      " ['Avg' '12' '15' '13' '11']]\n"
     ]
    }
   ],
   "source": [
    "m1 = append(m,[['Avg',12,15,13,11]],0)\n",
    "print(m1)"
   ]
  },
  {
   "cell_type": "markdown",
   "metadata": {},
   "source": [
    "### Adding a column\n",
    "We can add column to a matrix using the insert() method. Here, we have to mention the index, where we want to add the column and an array containing the new values of the\n",
    "columns added."
   ]
  },
  {
   "cell_type": "code",
   "execution_count": 92,
   "metadata": {},
   "outputs": [
    {
     "name": "stdout",
     "output_type": "stream",
     "text": [
      "[['1' 'Mon' '18' '20' '22' '17']\n",
      " ['2' 'Tue' '11' '18' '21' '18']\n",
      " ['3' 'Wed' '15' '21' '20' '19']\n",
      " ['4' 'Thu' '11' '20' '22' '21']\n",
      " ['5' 'Fri' '18' '17' '23' '22']\n",
      " ['6' 'Sat' '12' '22' '20' '18']\n",
      " ['7' 'Sun' '13' '15' '19' '16']]\n"
     ]
    }
   ],
   "source": [
    "m_c = insert(m,[0],[[1],[2],[3],[4],[5],[6],[7]],1)\n",
    "print(m_c)"
   ]
  },
  {
   "cell_type": "code",
   "execution_count": 93,
   "metadata": {},
   "outputs": [
    {
     "name": "stdout",
     "output_type": "stream",
     "text": [
      "[['Mon' '18' '20' '22' '17']\n",
      " ['Tue' '11' '18' '21' '18']\n",
      " ['Thu' '11' '20' '22' '21']\n",
      " ['Fri' '18' '17' '23' '22']\n",
      " ['Sat' '12' '22' '20' '18']\n",
      " ['Sun' '13' '15' '19' '16']]\n"
     ]
    }
   ],
   "source": [
    "m = delete(m,[2],0) # deleting an etire row\n",
    "print(m)"
   ]
  },
  {
   "cell_type": "code",
   "execution_count": 94,
   "metadata": {},
   "outputs": [
    {
     "name": "stdout",
     "output_type": "stream",
     "text": [
      "[['1' 'Mon' '20' '22' '17']\n",
      " ['2' 'Tue' '18' '21' '18']\n",
      " ['3' 'Wed' '21' '20' '19']\n",
      " ['4' 'Thu' '20' '22' '21']\n",
      " ['5' 'Fri' '17' '23' '22']\n",
      " ['6' 'Sat' '22' '20' '18']\n",
      " ['7' 'Sun' '15' '19' '16']]\n"
     ]
    }
   ],
   "source": [
    "m_c = delete(m_c,[2],1) # deleting an entire column\n",
    "print(m_c)"
   ]
  },
  {
   "cell_type": "code",
   "execution_count": 23,
   "metadata": {},
   "outputs": [
    {
     "name": "stdout",
     "output_type": "stream",
     "text": [
      "[['1' 'Mon' '20' '22' '17']\n",
      " ['2' 'Tue' '18' '21' '18']\n",
      " ['3' 'Wed' '21' '20' '19']\n",
      " ['Thu' '0' '0' '0' '0']\n",
      " ['5' 'Fri' '17' '23' '22']\n",
      " ['6' 'Sat' '22' '20' '18']\n",
      " ['7' 'Sun' '15' '19' '16']]\n"
     ]
    }
   ],
   "source": [
    "m_c[3] = ['Thu',0,0,0,0] #updating a column\n",
    "print(m_c)"
   ]
  },
  {
   "cell_type": "markdown",
   "metadata": {},
   "source": [
    "## 6. Sets\n",
    "This is a collection of items not in any particular order. Sets have the following properties:\n",
    "* The elements in the set cannot be duplicates\n",
    "* The elements in the set are immutable (cannot be modified), but the set as a whole is mutable.\n",
    "* There is no index attached to any element in a python set. So they do not support any indexing or slicing operation."
   ]
  },
  {
   "cell_type": "code",
   "execution_count": 24,
   "metadata": {},
   "outputs": [
    {
     "name": "stdout",
     "output_type": "stream",
     "text": [
      "{'Tue', 'Sat', 'Mon', 'Thu', 'Sun', 'Wed', 'Fri'}\n",
      "{'Jan', 'Mar', 'Feb'}\n",
      "{17, 21, 22}\n"
     ]
    }
   ],
   "source": [
    "# A set is created by using the set() function or placing all the elements within a pair of curly braces.\n",
    "Days=set([\"Mon\",\"Tue\",\"Wed\",\"Thu\",\"Fri\",\"Sat\",\"Sun\"])\n",
    "Months={\"Jan\",\"Feb\",\"Mar\"}\n",
    "Dates={21,22,17}\n",
    "print(Days)\n",
    "print(Months)\n",
    "print(Dates)"
   ]
  },
  {
   "cell_type": "markdown",
   "metadata": {},
   "source": [
    "### Accesing values in a set\n",
    "We cannot access individual values in a set. We can only access all the elements together as shown above. But, we can also get a list of individual elements, by looping through the set."
   ]
  },
  {
   "cell_type": "code",
   "execution_count": 25,
   "metadata": {},
   "outputs": [
    {
     "name": "stdout",
     "output_type": "stream",
     "text": [
      "Tue\n",
      "Sat\n",
      "Mon\n",
      "Thu\n",
      "Sun\n",
      "Wed\n",
      "Fri\n"
     ]
    }
   ],
   "source": [
    "for d in Days:\n",
    "    print(d)"
   ]
  },
  {
   "cell_type": "code",
   "execution_count": 26,
   "metadata": {},
   "outputs": [
    {
     "name": "stdout",
     "output_type": "stream",
     "text": [
      "{'Tue', 'Sat', 'Mon', 'Thu', 'Sun', 'Jan', 'Wed', 'Fri'}\n"
     ]
    }
   ],
   "source": [
    "# we can add a new element to the set by using add();\n",
    "# note that there is no specific element added to the newly added element\n",
    "Days.add(\"Jan\")\n",
    "print(Days)"
   ]
  },
  {
   "cell_type": "code",
   "execution_count": 27,
   "metadata": {},
   "outputs": [
    {
     "name": "stdout",
     "output_type": "stream",
     "text": [
      "{'Tue', 'Sat', 'Mon', 'Thu', 'Sun', 'Wed', 'Fri'}\n"
     ]
    }
   ],
   "source": [
    "# We can remove elements from a set by using discard() method.\n",
    "Days.discard(\"Jan\")\n",
    "print(Days)"
   ]
  },
  {
   "cell_type": "markdown",
   "metadata": {},
   "source": [
    "## Union of Sets"
   ]
  },
  {
   "cell_type": "code",
   "execution_count": 28,
   "metadata": {},
   "outputs": [
    {
     "name": "stdout",
     "output_type": "stream",
     "text": [
      "{'Tue', 'Sun', 'Mon', 'Sat', 'Thu', 'Wed', 'Fri'}\n"
     ]
    }
   ],
   "source": [
    "DaysA = set([\"Mon\",\"Tue\",\"Wed\"])\n",
    "DaysB = set([\"Wed\",\"Thu\",\"Fri\",\"Sat\",\"Sun\"])\n",
    "AllDays = DaysA|DaysB\n",
    "print(AllDays)"
   ]
  },
  {
   "cell_type": "markdown",
   "metadata": {},
   "source": [
    "## Intersection of Sets"
   ]
  },
  {
   "cell_type": "code",
   "execution_count": 29,
   "metadata": {},
   "outputs": [
    {
     "name": "stdout",
     "output_type": "stream",
     "text": [
      "{'Wed'}\n"
     ]
    }
   ],
   "source": [
    "DaysInBoth = DaysA&DaysB\n",
    "print(DaysInBoth)"
   ]
  },
  {
   "cell_type": "markdown",
   "metadata": {},
   "source": [
    "## Difference of Sets\n",
    "Only elements in the first set and are not in the second set."
   ]
  },
  {
   "cell_type": "code",
   "execution_count": 30,
   "metadata": {},
   "outputs": [
    {
     "name": "stdout",
     "output_type": "stream",
     "text": [
      "{'Tue', 'Mon'}\n"
     ]
    }
   ],
   "source": [
    "DaysInA = DaysA - DaysB\n",
    "print(DaysInA)"
   ]
  },
  {
   "cell_type": "markdown",
   "metadata": {},
   "source": [
    "## Compare Sets\n",
    "We can check, if a given set is a subset or superset of another set. The result is True or\n",
    "False depending on the elements present in the sets."
   ]
  },
  {
   "cell_type": "code",
   "execution_count": 31,
   "metadata": {},
   "outputs": [
    {
     "name": "stdout",
     "output_type": "stream",
     "text": [
      "False\n",
      "False\n"
     ]
    }
   ],
   "source": [
    "SubsetRes = DaysA <= DaysB\n",
    "SupersetRes = DaysB >= DaysA\n",
    "print(SubsetRes)\n",
    "print(SupersetRes)"
   ]
  },
  {
   "cell_type": "markdown",
   "metadata": {},
   "source": [
    "## 7. MAPS\n",
    "Maps also called ChainMap is a type of data structure to manage multiple dictionaries together as one unit. \n",
    "The best use of ChainMap is to search through multiple dictionaries at a time and get the proper key-value pair mapping. We also see that these ChainMaps behave as stack data structure."
   ]
  },
  {
   "cell_type": "code",
   "execution_count": 32,
   "metadata": {},
   "outputs": [
    {
     "name": "stdout",
     "output_type": "stream",
     "text": [
      "[{'day1': 'Mon', 'day2': 'Tue'}, {'day1': 'Thu', 'day3': 'Wed'}]\n",
      "Keys = ['day1', 'day3', 'day2']\n",
      "Values = ['Mon', 'Wed', 'Tue']\n",
      "\n"
     ]
    }
   ],
   "source": [
    "dict1 = {'day1': 'Mon', 'day2': 'Tue'}\n",
    "dict2 = {'day3': 'Wed', 'day1': 'Thu'}\n",
    "res = collections.ChainMap(dict1, dict2)\n",
    "# Creating a single dictionary\n",
    "print(res.maps,end='\\n')\n",
    "print('Keys = {}'.format(list(res.keys())))\n",
    "print('Values = {}'.format(list(res.values())))\n",
    "print()"
   ]
  },
  {
   "cell_type": "code",
   "execution_count": 33,
   "metadata": {},
   "outputs": [
    {
     "name": "stdout",
     "output_type": "stream",
     "text": [
      "day1=Mon\n",
      "day3=Wed\n",
      "day2=Tue\n",
      "\n"
     ]
    }
   ],
   "source": [
    "# Print all the elements from the result\n",
    "for key,val in res.items():\n",
    "    print('{}={}'.format(key,val))\n",
    "print()"
   ]
  },
  {
   "cell_type": "code",
   "execution_count": 34,
   "metadata": {},
   "outputs": [
    {
     "name": "stdout",
     "output_type": "stream",
     "text": [
      "day3 in res: True\n",
      "day4 in res: True\n"
     ]
    }
   ],
   "source": [
    "# Find a specific value in the result\n",
    "print('day3 in res: {}'.format(('day1' in res)))\n",
    "print('day4 in res: {}'.format(('day1' in res)))"
   ]
  },
  {
   "cell_type": "markdown",
   "metadata": {},
   "source": [
    "### Map Reordering\n",
    "If we change the order of the dictionaries while clubbing them in the above example, we see that, the position of the elements get interchanged as if, they are in a continuous chain. This again shows the behaviour of Maps as stacks."
   ]
  },
  {
   "cell_type": "code",
   "execution_count": 35,
   "metadata": {},
   "outputs": [
    {
     "name": "stdout",
     "output_type": "stream",
     "text": [
      "[{'day1': 'Mon', 'day2': 'Tue'}, {'day1': 'Thu', 'day3': 'Wed'}] \n",
      "\n",
      "[{'day1': 'Thu', 'day3': 'Wed'}, {'day1': 'Mon', 'day2': 'Tue'}] \n",
      "\n"
     ]
    }
   ],
   "source": [
    "res1 = collections.ChainMap(dict1, dict2)\n",
    "print(res1.maps,'\\n')\n",
    "res2 = collections.ChainMap(dict2, dict1)\n",
    "print(res2.maps,'\\n')"
   ]
  },
  {
   "cell_type": "markdown",
   "metadata": {},
   "source": [
    "## Linked Lists\n",
    "A linked list is a sequence of data elements, which are connected together via links."
   ]
  },
  {
   "cell_type": "code",
   "execution_count": 36,
   "metadata": {},
   "outputs": [],
   "source": [
    "class Node:\n",
    "    def __init__(self, dataval=None):\n",
    "        self.dataval = dataval\n",
    "        self.nextval = None\n",
    "class SLinkedList:\n",
    "    def __init__(self):\n",
    "        self.headval = None\n",
    "list1 = SLinkedList()\n",
    "list1.headval = Node(\"Mon\")\n",
    "e2 = Node(\"Tue\")\n",
    "e3 = Node(\"Wed\")\n",
    "# Link first Node to second node\n",
    "list1.headval.nextval = e2\n",
    "# Link second Node to third node\n",
    "e2.nextval = e3"
   ]
  },
  {
   "cell_type": "code",
   "execution_count": 37,
   "metadata": {},
   "outputs": [
    {
     "ename": "NameError",
     "evalue": "name 'printval' is not defined",
     "output_type": "error",
     "traceback": [
      "\u001b[0;31m---------------------------------------------------------------------------\u001b[0m",
      "\u001b[0;31mNameError\u001b[0m                                 Traceback (most recent call last)",
      "\u001b[0;32m<ipython-input-37-ca17ae92900d>\u001b[0m in \u001b[0;36m<module>\u001b[0;34m\u001b[0m\n\u001b[1;32m      6\u001b[0m     \u001b[0;32mwhile\u001b[0m \u001b[0mprintval\u001b[0m \u001b[0;32mis\u001b[0m \u001b[0;32mnot\u001b[0m \u001b[0;32mNone\u001b[0m\u001b[0;34m:\u001b[0m\u001b[0;34m\u001b[0m\u001b[0m\n\u001b[1;32m      7\u001b[0m         \u001b[0mprint\u001b[0m \u001b[0;34m(\u001b[0m\u001b[0mprintval\u001b[0m\u001b[0;34m.\u001b[0m\u001b[0mdataval\u001b[0m\u001b[0;34m)\u001b[0m\u001b[0;34m\u001b[0m\u001b[0m\n\u001b[0;32m----> 8\u001b[0;31m \u001b[0mprintval\u001b[0m \u001b[0;34m=\u001b[0m \u001b[0mprintval\u001b[0m\u001b[0;34m.\u001b[0m\u001b[0mnextval\u001b[0m\u001b[0;34m\u001b[0m\u001b[0m\n\u001b[0m\u001b[1;32m      9\u001b[0m \u001b[0mlist\u001b[0m \u001b[0;34m=\u001b[0m \u001b[0mSLinkedList\u001b[0m\u001b[0;34m(\u001b[0m\u001b[0;34m)\u001b[0m\u001b[0;34m\u001b[0m\u001b[0m\n\u001b[1;32m     10\u001b[0m \u001b[0mlist\u001b[0m\u001b[0;34m.\u001b[0m\u001b[0mheadval\u001b[0m \u001b[0;34m=\u001b[0m \u001b[0mNode\u001b[0m\u001b[0;34m(\u001b[0m\u001b[0;34m\"Mon\"\u001b[0m\u001b[0;34m)\u001b[0m\u001b[0;34m\u001b[0m\u001b[0m\n",
      "\u001b[0;31mNameError\u001b[0m: name 'printval' is not defined"
     ]
    }
   ],
   "source": [
    "class SLinkedList:\n",
    "    def __init__(self):\n",
    "        self.headval = None\n",
    "def listprint(self):\n",
    "    printval = self.headval\n",
    "    while printval is not None:\n",
    "        print (printval.dataval)\n",
    "printval = printval.nextval\n",
    "list = SLinkedList()\n",
    "list.headval = Node(\"Mon\")\n",
    "e2 = Node(\"Tue\")\n",
    "e3 = Node(\"Wed\")\n",
    "# Link first Node to second node\n",
    "list.headval.nextval = e2\n",
    "# Link second Node to third node\n",
    "e2.nextval = e3\n",
    "list.listprint()"
   ]
  },
  {
   "cell_type": "code",
   "execution_count": 38,
   "metadata": {},
   "outputs": [
    {
     "name": "stdout",
     "output_type": "stream",
     "text": [
      "deghilos\n"
     ]
    }
   ],
   "source": [
    "p = list('gyleodhis') #deghilosy\n",
    "p.sort()\n",
    "del p[-1]\n",
    "p1 = ''.join(p)\n",
    "if len(p1) in range(2,1000):\n",
    "    print(p1)\n",
    "else:\n",
    "    print('string too short')"
   ]
  },
  {
   "cell_type": "code",
   "execution_count": null,
   "metadata": {},
   "outputs": [],
   "source": []
  }
 ],
 "metadata": {
  "kernelspec": {
   "display_name": "Python 3 (ipykernel)",
   "language": "python",
   "name": "python3"
  },
  "language_info": {
   "codemirror_mode": {
    "name": "ipython",
    "version": 3
   },
   "file_extension": ".py",
   "mimetype": "text/x-python",
   "name": "python",
   "nbconvert_exporter": "python",
   "pygments_lexer": "ipython3",
   "version": "3.9.7"
  }
 },
 "nbformat": 4,
 "nbformat_minor": 2
}
