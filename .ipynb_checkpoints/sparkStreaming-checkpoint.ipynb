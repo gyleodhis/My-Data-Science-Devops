{
 "cells": [
  {
   "cell_type": "code",
   "execution_count": 1,
   "id": "f8e9ef43",
   "metadata": {},
   "outputs": [],
   "source": [
    "import findspark\n",
    "findspark.init()\n",
    "from pyspark.sql import SparkSession\n",
    "from pyspark.sql.types import *\n",
    "spark = SparkSession.builder.appName('Stream File').getOrCreate()"
   ]
  },
  {
   "cell_type": "code",
   "execution_count": 2,
   "id": "7579226c",
   "metadata": {},
   "outputs": [],
   "source": [
    "spark.sparkContext.setLogLevel('ERROR')\n",
    "mySchema = StructType([\n",
    "    StructField('Date', TimestampType(),True),\n",
    "    StructField('Message', StringType(),True)\n",
    "])"
   ]
  },
  {
   "cell_type": "code",
   "execution_count": 3,
   "id": "a1d559ad",
   "metadata": {},
   "outputs": [],
   "source": [
    " streamDF = spark.readStream.option('delimiter','|').schema(mySchema).csv(path='logs/')"
   ]
  },
  {
   "cell_type": "code",
   "execution_count": null,
   "id": "8dfe6997",
   "metadata": {},
   "outputs": [],
   "source": [
    "streamDF.createOrReplaceTempView('SDF')\n",
    "outputDF = spark.sql(sqlQuery='select * from SDF')\n",
    "outputDF.writeStream.format(source='console').outputMode(outputMode='update').start().awaitTermination() # can be append on complete"
   ]
  },
  {
   "cell_type": "code",
   "execution_count": null,
   "id": "f3db4a28",
   "metadata": {},
   "outputs": [],
   "source": []
  }
 ],
 "metadata": {
  "kernelspec": {
   "display_name": "Python 3 (ipykernel)",
   "language": "python",
   "name": "python3"
  },
  "language_info": {
   "codemirror_mode": {
    "name": "ipython",
    "version": 3
   },
   "file_extension": ".py",
   "mimetype": "text/x-python",
   "name": "python",
   "nbconvert_exporter": "python",
   "pygments_lexer": "ipython3",
   "version": "3.9.7"
  }
 },
 "nbformat": 4,
 "nbformat_minor": 5
}
